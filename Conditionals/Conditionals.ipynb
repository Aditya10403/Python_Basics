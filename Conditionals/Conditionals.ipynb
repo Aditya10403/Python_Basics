{
 "cells": [
  {
   "cell_type": "code",
   "execution_count": 3,
   "metadata": {},
   "outputs": [
    {
     "name": "stdout",
     "output_type": "stream",
     "text": [
      "He/She is a Adult\n"
     ]
    }
   ],
   "source": [
    "# Age Group Categorization\n",
    "user_age = int(input(\"Enter the age: \")) # 21\n",
    "\n",
    "if (user_age <= 0 or user_age > 100):\n",
    "    print(\"Invalid age!\")\n",
    "elif (user_age < 13):\n",
    "    print(\"He/She is a Child\")\n",
    "elif (user_age <= 19):\n",
    "    print(\"He/She is a Teenager\")\n",
    "elif (user_age <=59):\n",
    "    print(\"He/She is a Adult\")\n",
    "else:\n",
    "    print(\"He/She is a Senior\")"
   ]
  },
  {
   "cell_type": "code",
   "execution_count": 5,
   "metadata": {},
   "outputs": [
    {
     "name": "stdout",
     "output_type": "stream",
     "text": [
      "Ticket Booked for Wednesday at ₹200\n"
     ]
    }
   ],
   "source": [
    "# Movie Ticket Pricing\n",
    "user_age = int(input(\"Enter the age: \")) # 12\n",
    "booking_day = input(\"Enter the preferred day: \") # Wednesday\n",
    "\n",
    "price = 500 if user_age >= 18 else 250\n",
    "price = price - 50 if booking_day == \"Wednesday\"  else price\n",
    "\n",
    "print(\"Ticket Booked for {} at ₹ {}\".format(booking_day, price))"
   ]
  },
  {
   "cell_type": "code",
   "execution_count": 1,
   "metadata": {},
   "outputs": [
    {
     "name": "stdout",
     "output_type": "stream",
     "text": [
      "You got an B\n"
     ]
    }
   ],
   "source": [
    "# Grade Calculator\n",
    "student_score = int(input(\"Enter you score: \")) # 89\n",
    "\n",
    "if(student_score < 0 or student_score > 100):\n",
    "    print(\"Invalid score\")\n",
    "elif(student_score >= 90):\n",
    "    print(\"You got an A\")\n",
    "elif(student_score >= 80):\n",
    "    print(\"You got an B\")\n",
    "elif(student_score >= 70):\n",
    "    print(\"You got an C\")\n",
    "elif(student_score >= 60):\n",
    "    print(\"You got an D\")\n",
    "else:\n",
    "    print(\"You got an F\")"
   ]
  }
 ],
 "metadata": {
  "kernelspec": {
   "display_name": "Python 3",
   "language": "python",
   "name": "python3"
  },
  "language_info": {
   "codemirror_mode": {
    "name": "ipython",
    "version": 3
   },
   "file_extension": ".py",
   "mimetype": "text/x-python",
   "name": "python",
   "nbconvert_exporter": "python",
   "pygments_lexer": "ipython3",
   "version": "3.11.4"
  }
 },
 "nbformat": 4,
 "nbformat_minor": 2
}
