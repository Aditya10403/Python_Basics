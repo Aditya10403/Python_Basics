{
 "cells": [
  {
   "cell_type": "code",
   "execution_count": 3,
   "metadata": {},
   "outputs": [
    {
     "name": "stdout",
     "output_type": "stream",
     "text": [
      "There are total 6 positive numbers in the array.\n"
     ]
    }
   ],
   "source": [
    "# Counting Positive Numbers\n",
    "numbers = [1, -2, 3, -4, 5, 6, -7, -8, 9, 10]\n",
    "count = 0\n",
    "for i in numbers:\n",
    "    if (i > 0):\n",
    "        count += 1\n",
    "print(\"There are total {} positive numbers in the array.\".format(count))"
   ]
  },
  {
   "cell_type": "code",
   "execution_count": 7,
   "metadata": {},
   "outputs": [
    {
     "name": "stdout",
     "output_type": "stream",
     "text": [
      "2 + 4 + 6 + 8 + 10 = 30\n"
     ]
    }
   ],
   "source": [
    "# Sum of Even Numbers\n",
    "Range =  int(input(\"Give the range to sum up to : \")) # 10\n",
    "no, sum = 1, 0\n",
    "while(no < Range):\n",
    "    if (no % 2 == 0):\n",
    "        sum += no\n",
    "        print(\"{}\".format(no), end = \" + \")\n",
    "    no += 1\n",
    "print(\"{} = {}\".format(no, sum + no))    "
   ]
  },
  {
   "cell_type": "code",
   "execution_count": 8,
   "metadata": {},
   "outputs": [
    {
     "name": "stdout",
     "output_type": "stream",
     "text": [
      "Multiplication table for 5\n",
      "5 * 1 = 5\n",
      "5 * 2 = 10\n",
      "5 * 3 = 15\n",
      "5 * 4 = 20\n",
      "5 * 5 = 25\n",
      "5 * 6 = 30\n",
      "5 * 7 = 35\n",
      "5 * 8 = 40\n",
      "5 * 9 = 45\n",
      "5 * 10 = 50\n"
     ]
    }
   ],
   "source": [
    "# Multiplication Table Printer\n",
    "num = int(input(\"Enter the number : \")) # 5\n",
    "print(\"Multiplication table for {}\".format(num))\n",
    "for i in range(1, 11):\n",
    "    print(\"{} * {} = {}\".format(num, i, num * i))"
   ]
  },
  {
   "cell_type": "code",
   "execution_count": 1,
   "metadata": {},
   "outputs": [
    {
     "name": "stdout",
     "output_type": "stream",
     "text": [
      "Reversal of abc is cba\n"
     ]
    }
   ],
   "source": [
    "# Reverse a String\n",
    "original_string = input(\"Enter a string : \")\n",
    "reversed_string = \"\"\n",
    "for char in original_string:\n",
    "    reversed_string = char + reversed_string\n",
    "print(\"Reversal of {} is {}\".format(original_string, reversed_string))"
   ]
  },
  {
   "cell_type": "code",
   "execution_count": 4,
   "metadata": {},
   "outputs": [
    {
     "name": "stdout",
     "output_type": "stream",
     "text": [
      "c is the first non-repeated character in ababcdede\n"
     ]
    }
   ],
   "source": [
    "# Find the First Non-Repeated Character\n",
    "user_string = input(\"Enter a string : \")\n",
    "for char in user_string:\n",
    "    if (user_string.count(char) == 1):\n",
    "        print(\"{} is the first non-repeated character in {}\".format(char, user_string))\n",
    "        break"
   ]
  },
  {
   "cell_type": "code",
   "execution_count": 10,
   "metadata": {},
   "outputs": [
    {
     "name": "stdout",
     "output_type": "stream",
     "text": [
      "Factorial calculation of 5! is => \n",
      "1 * 2 * 3 * 4 * 5 = 120\n"
     ]
    }
   ],
   "source": [
    "# Factorial Calculator\n",
    "num = int(input(\"Enter the number : \"))\n",
    "i, factorial = 1, 1\n",
    "print(\"Factorial calculation of {}! is => \".format(num))\n",
    "while(i < num):\n",
    "    factorial *= i\n",
    "    print(\"{}\".format(i), end= \" * \")\n",
    "    i += 1\n",
    "if num != 0:\n",
    "    print(\"{} = {}\".format(i, i*factorial))\n",
    "else:\n",
    "     print(\"0! = {}\".format(factorial))"
   ]
  },
  {
   "cell_type": "code",
   "execution_count": 11,
   "metadata": {},
   "outputs": [
    {
     "name": "stdout",
     "output_type": "stream",
     "text": [
      "Enter a number in range [1, 10)\n",
      "Invalid number\n",
      "You have given 1\n"
     ]
    }
   ],
   "source": [
    "# Validate Input\n",
    "print(\"Enter a number in range [1, 10)\")\n",
    "while(1):\n",
    "    no = int(input(\"Enter the number : \"))\n",
    "    if no >= 1 and no < 10:\n",
    "        print(\"You have given {}\".format(no))\n",
    "        break\n",
    "    else:\n",
    "        print(\"Invalid number\")"
   ]
  },
  {
   "cell_type": "code",
   "execution_count": 24,
   "metadata": {},
   "outputs": [
    {
     "name": "stdout",
     "output_type": "stream",
     "text": [
      "10 is not a Prime Number\n"
     ]
    }
   ],
   "source": [
    "# Prime Number Checker\n",
    "import math\n",
    "num = int(input(\"Enter the number : \"))\n",
    "flag = True\n",
    "if num <= 1:\n",
    "    flag = False\n",
    "if num % 2 == 0:\n",
    "    flag = num == 2\n",
    "max_divisor = math.isqrt(num)\n",
    "for i in range(3, max_divisor + 1, 2):\n",
    "    if num % i == 0:\n",
    "        flag = False\n",
    "if (flag == True):\n",
    "    print(\"{} is a Prime Number\".format(num))\n",
    "else:\n",
    "    print(\"{} is not a Prime Number\".format(num))"
   ]
  }
 ],
 "metadata": {
  "kernelspec": {
   "display_name": "Python 3",
   "language": "python",
   "name": "python3"
  },
  "language_info": {
   "codemirror_mode": {
    "name": "ipython",
    "version": 3
   },
   "file_extension": ".py",
   "mimetype": "text/x-python",
   "name": "python",
   "nbconvert_exporter": "python",
   "pygments_lexer": "ipython3",
   "version": "3.11.7"
  }
 },
 "nbformat": 4,
 "nbformat_minor": 2
}
