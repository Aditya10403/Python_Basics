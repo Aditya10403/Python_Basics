{
 "cells": [
  {
   "cell_type": "code",
   "execution_count": 3,
   "metadata": {},
   "outputs": [
    {
     "name": "stdout",
     "output_type": "stream",
     "text": [
      "There are total 6 positive numbers in the array.\n"
     ]
    }
   ],
   "source": [
    "# Counting Positive Numbers\n",
    "numbers = [1, -2, 3, -4, 5, 6, -7, -8, 9, 10]\n",
    "count = 0\n",
    "for i in numbers:\n",
    "    if (i > 0):\n",
    "        count += 1\n",
    "print(\"There are total {} positive numbers in the array.\".format(count))"
   ]
  },
  {
   "cell_type": "code",
   "execution_count": 7,
   "metadata": {},
   "outputs": [
    {
     "name": "stdout",
     "output_type": "stream",
     "text": [
      "2 + 4 + 6 + 8 + 10 = 30\n"
     ]
    }
   ],
   "source": [
    "# Sum of Even Numbers\n",
    "Range =  int(input(\"Give the range to sum up to : \")) # 10\n",
    "no, sum = 1, 0\n",
    "while(no < Range):\n",
    "    if (no % 2 == 0):\n",
    "        sum += no\n",
    "        print(\"{}\".format(no), end = \" + \")\n",
    "    no += 1\n",
    "print(\"{} = {}\".format(no, sum + no))    "
   ]
  },
  {
   "cell_type": "code",
   "execution_count": 8,
   "metadata": {},
   "outputs": [
    {
     "name": "stdout",
     "output_type": "stream",
     "text": [
      "Multiplication table for 5\n",
      "5 * 1 = 5\n",
      "5 * 2 = 10\n",
      "5 * 3 = 15\n",
      "5 * 4 = 20\n",
      "5 * 5 = 25\n",
      "5 * 6 = 30\n",
      "5 * 7 = 35\n",
      "5 * 8 = 40\n",
      "5 * 9 = 45\n",
      "5 * 10 = 50\n"
     ]
    }
   ],
   "source": [
    "# Multiplication Table Printer\n",
    "num = int(input(\"Enter the number : \")) # 5\n",
    "print(\"Multiplication table for {}\".format(num))\n",
    "for i in range(1, 11):\n",
    "    print(\"{} * {} = {}\".format(num, i, num * i))"
   ]
  }
 ],
 "metadata": {
  "kernelspec": {
   "display_name": "Python 3",
   "language": "python",
   "name": "python3"
  },
  "language_info": {
   "codemirror_mode": {
    "name": "ipython",
    "version": 3
   },
   "file_extension": ".py",
   "mimetype": "text/x-python",
   "name": "python",
   "nbconvert_exporter": "python",
   "pygments_lexer": "ipython3",
   "version": "3.11.4"
  }
 },
 "nbformat": 4,
 "nbformat_minor": 2
}
